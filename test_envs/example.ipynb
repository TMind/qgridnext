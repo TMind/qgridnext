{
 "cells": [
  {
   "cell_type": "code",
   "execution_count": 1,
   "id": "aeb88d9f",
   "metadata": {
    "tags": []
   },
   "outputs": [
    {
     "name": "stderr",
     "output_type": "stream",
     "text": [
      "/tmp/ipykernel_3542672/785301335.py:1: DeprecationWarning: \n",
      "Pyarrow will become a required dependency of pandas in the next major release of pandas (pandas 3.0),\n",
      "(to allow more performant data types, such as the Arrow string type, and better interoperability with other libraries)\n",
      "but was not found to be installed on your system.\n",
      "If this would cause problems for you,\n",
      "please provide us feedback at https://github.com/pandas-dev/pandas/issues/54466\n",
      "        \n",
      "  import pandas as pd\n"
     ]
    }
   ],
   "source": [
    "import pandas as pd\n",
    "from qgrid import show_grid"
   ]
  },
  {
   "cell_type": "code",
   "execution_count": 2,
   "id": "21a7f456",
   "metadata": {
    "tags": []
   },
   "outputs": [],
   "source": [
    "df = pd.read_csv('example.csv', parse_dates=['date'], index_col=0)"
   ]
  },
  {
   "cell_type": "code",
   "execution_count": 3,
   "id": "cc8be0eb",
   "metadata": {
    "scrolled": true,
    "tags": []
   },
   "outputs": [
    {
     "data": {
      "text/plain": [
       "date    datetime64[ns]\n",
       "cf             float64\n",
       "cb                bool\n",
       "ci               int64\n",
       "cu              uint64\n",
       "cs              object\n",
       "dtype: object"
      ]
     },
     "execution_count": 3,
     "metadata": {},
     "output_type": "execute_result"
    }
   ],
   "source": [
    "df.dtypes"
   ]
  },
  {
   "cell_type": "code",
   "execution_count": 4,
   "id": "f8c69191",
   "metadata": {
    "tags": []
   },
   "outputs": [
    {
     "data": {
      "text/html": [
       "<div>\n",
       "<style scoped>\n",
       "    .dataframe tbody tr th:only-of-type {\n",
       "        vertical-align: middle;\n",
       "    }\n",
       "\n",
       "    .dataframe tbody tr th {\n",
       "        vertical-align: top;\n",
       "    }\n",
       "\n",
       "    .dataframe thead th {\n",
       "        text-align: right;\n",
       "    }\n",
       "</style>\n",
       "<table border=\"1\" class=\"dataframe\">\n",
       "  <thead>\n",
       "    <tr style=\"text-align: right;\">\n",
       "      <th></th>\n",
       "      <th>date</th>\n",
       "      <th>cf</th>\n",
       "      <th>cb</th>\n",
       "      <th>ci</th>\n",
       "      <th>cu</th>\n",
       "      <th>cs</th>\n",
       "    </tr>\n",
       "    <tr>\n",
       "      <th>id</th>\n",
       "      <th></th>\n",
       "      <th></th>\n",
       "      <th></th>\n",
       "      <th></th>\n",
       "      <th></th>\n",
       "      <th></th>\n",
       "    </tr>\n",
       "  </thead>\n",
       "  <tbody>\n",
       "    <tr>\n",
       "      <th>0</th>\n",
       "      <td>2005-01-04</td>\n",
       "      <td>11465.6029</td>\n",
       "      <td>True</td>\n",
       "      <td>-8</td>\n",
       "      <td>237984280904424225</td>\n",
       "      <td>eee</td>\n",
       "    </tr>\n",
       "    <tr>\n",
       "      <th>1</th>\n",
       "      <td>2005-01-05</td>\n",
       "      <td>20718.5586</td>\n",
       "      <td>True</td>\n",
       "      <td>-11</td>\n",
       "      <td>6135028189662314130</td>\n",
       "      <td>ddd</td>\n",
       "    </tr>\n",
       "    <tr>\n",
       "      <th>2</th>\n",
       "      <td>2005-01-06</td>\n",
       "      <td>17333.8401</td>\n",
       "      <td>False</td>\n",
       "      <td>92</td>\n",
       "      <td>2552689134208762542</td>\n",
       "      <td>ddd</td>\n",
       "    </tr>\n",
       "    <tr>\n",
       "      <th>3</th>\n",
       "      <td>2005-01-07</td>\n",
       "      <td>12302.8532</td>\n",
       "      <td>True</td>\n",
       "      <td>117</td>\n",
       "      <td>17221344372519106196</td>\n",
       "      <td>bbb</td>\n",
       "    </tr>\n",
       "    <tr>\n",
       "      <th>4</th>\n",
       "      <td>2005-01-10</td>\n",
       "      <td>17111.4980</td>\n",
       "      <td>True</td>\n",
       "      <td>-73</td>\n",
       "      <td>4951539081942837395</td>\n",
       "      <td>bbb</td>\n",
       "    </tr>\n",
       "    <tr>\n",
       "      <th>...</th>\n",
       "      <td>...</td>\n",
       "      <td>...</td>\n",
       "      <td>...</td>\n",
       "      <td>...</td>\n",
       "      <td>...</td>\n",
       "      <td>...</td>\n",
       "    </tr>\n",
       "    <tr>\n",
       "      <th>4460</th>\n",
       "      <td>2023-12-20</td>\n",
       "      <td>650511.3430</td>\n",
       "      <td>False</td>\n",
       "      <td>-108</td>\n",
       "      <td>16715228061546685321</td>\n",
       "      <td>bbb</td>\n",
       "    </tr>\n",
       "    <tr>\n",
       "      <th>4461</th>\n",
       "      <td>2023-12-21</td>\n",
       "      <td>925407.0730</td>\n",
       "      <td>True</td>\n",
       "      <td>-48</td>\n",
       "      <td>8266030627101235507</td>\n",
       "      <td>ccc</td>\n",
       "    </tr>\n",
       "    <tr>\n",
       "      <th>4462</th>\n",
       "      <td>2023-12-22</td>\n",
       "      <td>924998.7690</td>\n",
       "      <td>False</td>\n",
       "      <td>50</td>\n",
       "      <td>11849472432302116626</td>\n",
       "      <td>ddd</td>\n",
       "    </tr>\n",
       "    <tr>\n",
       "      <th>4463</th>\n",
       "      <td>2023-12-25</td>\n",
       "      <td>379638.2340</td>\n",
       "      <td>False</td>\n",
       "      <td>-112</td>\n",
       "      <td>5964619913061469407</td>\n",
       "      <td>aaa</td>\n",
       "    </tr>\n",
       "    <tr>\n",
       "      <th>4464</th>\n",
       "      <td>2023-12-26</td>\n",
       "      <td>493746.6230</td>\n",
       "      <td>False</td>\n",
       "      <td>12</td>\n",
       "      <td>5249516862962858689</td>\n",
       "      <td>aaa</td>\n",
       "    </tr>\n",
       "  </tbody>\n",
       "</table>\n",
       "<p>4465 rows × 6 columns</p>\n",
       "</div>"
      ],
      "text/plain": [
       "           date           cf     cb   ci                    cu   cs\n",
       "id                                                                 \n",
       "0    2005-01-04   11465.6029   True   -8    237984280904424225  eee\n",
       "1    2005-01-05   20718.5586   True  -11   6135028189662314130  ddd\n",
       "2    2005-01-06   17333.8401  False   92   2552689134208762542  ddd\n",
       "3    2005-01-07   12302.8532   True  117  17221344372519106196  bbb\n",
       "4    2005-01-10   17111.4980   True  -73   4951539081942837395  bbb\n",
       "...         ...          ...    ...  ...                   ...  ...\n",
       "4460 2023-12-20  650511.3430  False -108  16715228061546685321  bbb\n",
       "4461 2023-12-21  925407.0730   True  -48   8266030627101235507  ccc\n",
       "4462 2023-12-22  924998.7690  False   50  11849472432302116626  ddd\n",
       "4463 2023-12-25  379638.2340  False -112   5964619913061469407  aaa\n",
       "4464 2023-12-26  493746.6230  False   12   5249516862962858689  aaa\n",
       "\n",
       "[4465 rows x 6 columns]"
      ]
     },
     "execution_count": 4,
     "metadata": {},
     "output_type": "execute_result"
    }
   ],
   "source": [
    "df"
   ]
  },
  {
   "cell_type": "code",
   "execution_count": 5,
   "id": "7b00bde1",
   "metadata": {
    "tags": []
   },
   "outputs": [
    {
     "data": {
      "application/vnd.jupyter.widget-view+json": {
       "model_id": "fc28dbda8595433e9d080964f2c918b8",
       "version_major": 2,
       "version_minor": 0
      },
      "text/plain": [
       "QgridWidget(grid_options={'fullWidthRows': True, 'syncColumnCellResize': True, 'forceFitColumns': True, 'defau…"
      ]
     },
     "execution_count": 5,
     "metadata": {},
     "output_type": "execute_result"
    }
   ],
   "source": [
    "show_grid(df)"
   ]
  },
  {
   "cell_type": "code",
   "execution_count": null,
   "id": "91f9713a-9ebc-49ba-8a57-2495965a09d3",
   "metadata": {},
   "outputs": [],
   "source": []
  }
 ],
 "metadata": {
  "kernelspec": {
   "display_name": "Python 3 (ipykernel)",
   "language": "python",
   "name": "python3"
  },
  "language_info": {
   "codemirror_mode": {
    "name": "ipython",
    "version": 3
   },
   "file_extension": ".py",
   "mimetype": "text/x-python",
   "name": "python",
   "nbconvert_exporter": "python",
   "pygments_lexer": "ipython3",
   "version": "3.11.7"
  }
 },
 "nbformat": 4,
 "nbformat_minor": 5
}
